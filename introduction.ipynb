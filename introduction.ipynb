{
 "cells": [
  {
   "cell_type": "markdown",
   "id": "8cc16d2d",
   "metadata": {},
   "source": [
    "# Welcome"
   ]
  },
  {
   "cell_type": "markdown",
   "id": "cd909f37",
   "metadata": {},
   "source": [
    "Welcome to the \"Introduction to genAI course\". \n",
    "\n",
    "This course is going to give you an overview of what you can build with an LLM and some creativity."
   ]
  },
  {
   "cell_type": "markdown",
   "id": "64674693",
   "metadata": {},
   "source": [
    "# Program"
   ]
  },
  {
   "cell_type": "markdown",
   "id": "8d683b88",
   "metadata": {},
   "source": [
    "This is the outline of the course:\n",
    "\n",
    "1) In the first chapter, you are going to create a small program that connects to OpenAI and lets the user chat with an LLM. \n",
    "2) In the second chapter, you will create a User Interface, so that the user can chat from there instead of the terminal.\n",
    "3) In the third chapter, you will parse a corpus of documents, separate it into chunks, embed them and store them in a vector dataset.\n",
    "4) In the fourth chapter, you will modify the initial program to retrieve the most significant document from the vector dataset for each of the user questions. You will then pass these contexts to the LLM, to get informed answers.\n",
    "\n",
    "After this, you will have a good grip on genAI."
   ]
  }
 ],
 "metadata": {
  "language_info": {
   "name": "python"
  }
 },
 "nbformat": 4,
 "nbformat_minor": 5
}
