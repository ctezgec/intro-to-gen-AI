{
 "cells": [
  {
   "cell_type": "markdown",
   "id": "d3f3ece2",
   "metadata": {
    "vscode": {
     "languageId": "plaintext"
    }
   },
   "source": [
    "# Chapter 2: create a fancy UI (User Interface)"
   ]
  },
  {
   "cell_type": "markdown",
   "id": "50963917",
   "metadata": {},
   "source": [
    "In this chapter you are going to extend the program from the previous chapter, to include a UI similar to the one from ChatGPT. Chatting from the terminal is cool, but we can do better!"
   ]
  },
  {
   "cell_type": "markdown",
   "id": "e906eaac",
   "metadata": {},
   "source": [
    "## Streamlit"
   ]
  },
  {
   "cell_type": "markdown",
   "id": "729fddc0",
   "metadata": {
    "vscode": {
     "languageId": "plaintext"
    }
   },
   "source": [
    "To create the UI, we are going to use Streamlit. They already have a cool guide on how to create a chat UI.\n",
    "\n",
    "https://docs.streamlit.io/develop/tutorials/chat-and-llm-apps/build-conversational-apps"
   ]
  },
  {
   "cell_type": "code",
   "execution_count": 2,
   "id": "9587062e",
   "metadata": {},
   "outputs": [],
   "source": [
    "#pip install streamlit"
   ]
  },
  {
   "cell_type": "code",
   "execution_count": null,
   "id": "83a2d5c8",
   "metadata": {},
   "outputs": [],
   "source": [
    "import streamlit as st\n",
    "\n",
    "# Follow the guide in the link to create a UI that you like\n",
    "\n",
    "      "
   ]
  }
 ],
 "metadata": {
  "kernelspec": {
   "display_name": ".venv",
   "language": "python",
   "name": "python3"
  },
  "language_info": {
   "codemirror_mode": {
    "name": "ipython",
    "version": 3
   },
   "file_extension": ".py",
   "mimetype": "text/x-python",
   "name": "python",
   "nbconvert_exporter": "python",
   "pygments_lexer": "ipython3",
   "version": "3.11.4"
  }
 },
 "nbformat": 4,
 "nbformat_minor": 5
}
