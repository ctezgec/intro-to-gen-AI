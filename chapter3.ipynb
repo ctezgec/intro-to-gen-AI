{
 "cells": [
  {
   "cell_type": "markdown",
   "id": "539b845d",
   "metadata": {},
   "source": [
    "# Chapter 3: vectorize contextual information"
   ]
  },
  {
   "cell_type": "markdown",
   "id": "3d6d0a78",
   "metadata": {},
   "source": [
    "In this chapter you will take a document, split it into chunks and embed the chunks (transform their meaning into vectors). You will then save the vectorized chunks into a csv file."
   ]
  },
  {
   "cell_type": "markdown",
   "id": "8f88185a",
   "metadata": {
    "vscode": {
     "languageId": "plaintext"
    }
   },
   "source": [
    "## Download a document"
   ]
  },
  {
   "cell_type": "code",
   "execution_count": null,
   "id": "d8f0ff63",
   "metadata": {
    "vscode": {
     "languageId": "plaintext"
    }
   },
   "outputs": [],
   "source": [
    "pip install requests"
   ]
  },
  {
   "cell_type": "code",
   "execution_count": null,
   "id": "09af07a0",
   "metadata": {
    "vscode": {
     "languageId": "plaintext"
    }
   },
   "outputs": [],
   "source": [
    "import requests\n",
    "\n",
    "document_link = ...\n",
    "\n",
    "document = requests.get(document_link)"
   ]
  },
  {
   "cell_type": "code",
   "execution_count": null,
   "id": "b3078016",
   "metadata": {
    "vscode": {
     "languageId": "plaintext"
    }
   },
   "outputs": [],
   "source": [
    "print(document)"
   ]
  },
  {
   "cell_type": "markdown",
   "id": "b97a5360",
   "metadata": {},
   "source": [
    "## Parse it into chunks"
   ]
  },
  {
   "cell_type": "markdown",
   "id": "219bb7c6",
   "metadata": {},
   "source": [
    "## Vectorize the chunks"
   ]
  },
  {
   "cell_type": "markdown",
   "id": "bf5ee5d9",
   "metadata": {},
   "source": [
    "## Save the vector-chunk pairs"
   ]
  }
 ],
 "metadata": {
  "language_info": {
   "name": "python"
  }
 },
 "nbformat": 4,
 "nbformat_minor": 5
}
